{
 "cells": [
  {
   "cell_type": "code",
   "execution_count": 47,
   "metadata": {},
   "outputs": [],
   "source": [
    "import re\n",
    "import pandas as pd\n",
    "\n",
    "df = pd.read_excel(\"Book1.xlsx\")"
   ]
  },
  {
   "cell_type": "code",
   "execution_count": 48,
   "metadata": {},
   "outputs": [
    {
     "data": {
      "text/html": [
       "<div>\n",
       "<style scoped>\n",
       "    .dataframe tbody tr th:only-of-type {\n",
       "        vertical-align: middle;\n",
       "    }\n",
       "\n",
       "    .dataframe tbody tr th {\n",
       "        vertical-align: top;\n",
       "    }\n",
       "\n",
       "    .dataframe thead th {\n",
       "        text-align: right;\n",
       "    }\n",
       "</style>\n",
       "<table border=\"1\" class=\"dataframe\">\n",
       "  <thead>\n",
       "    <tr style=\"text-align: right;\">\n",
       "      <th></th>\n",
       "      <th>Surveying, Mathematics, and Transportation Engineering</th>\n",
       "      <th>Hydraulics and Geotechnical Engineering</th>\n",
       "      <th>Construction and Structural Engineering</th>\n",
       "    </tr>\n",
       "  </thead>\n",
       "  <tbody>\n",
       "    <tr>\n",
       "      <th>0</th>\n",
       "      <td>1.0 Algebra 1.1 Set Theory* 1.2 Real Numbers 1...</td>\n",
       "      <td>1.0 Fluid Mechanics 1.1 Properties of Fluids 1...</td>\n",
       "      <td>1.0 Statics of Rigid Bodies 1.1 Force System 1...</td>\n",
       "    </tr>\n",
       "    <tr>\n",
       "      <th>1</th>\n",
       "      <td>4.1.4 The Differential 4.1.5 Partial Derivativ...</td>\n",
       "      <td>4.0 Irrigation, Flood Control and Drainage 4.1...</td>\n",
       "      <td>1.4.3 Bending Moment Diagrams 1.5 Related Topi...</td>\n",
       "    </tr>\n",
       "    <tr>\n",
       "      <th>2</th>\n",
       "      <td>1.0 Surveying Concepts 1.1 Uses of Surveys 1.2...</td>\n",
       "      <td>5.3.1 Quantity 5.3.2 Methods 5.3.3 Theory of A...</td>\n",
       "      <td>3.9 Shear Center 3.10 Curved Beams 3.11 Nonhom...</td>\n",
       "    </tr>\n",
       "    <tr>\n",
       "      <th>3</th>\n",
       "      <td>3.1.5 Compass Traverse 3.1.6 Stadia Traverse 3...</td>\n",
       "      <td>NaN</td>\n",
       "      <td>4.5.3 Frames 5.0 Design of Timber Structures 5...</td>\n",
       "    </tr>\n",
       "    <tr>\n",
       "      <th>4</th>\n",
       "      <td>NaN</td>\n",
       "      <td>NaN</td>\n",
       "      <td>7.5.2 Deflections 7.6 Columns 7.6.1 Short Colu...</td>\n",
       "    </tr>\n",
       "    <tr>\n",
       "      <th>5</th>\n",
       "      <td>NaN</td>\n",
       "      <td>NaN</td>\n",
       "      <td>9.1.3 Highway Design 9.1.4 Traffic Engineering...</td>\n",
       "    </tr>\n",
       "  </tbody>\n",
       "</table>\n",
       "</div>"
      ],
      "text/plain": [
       "  Surveying, Mathematics, and Transportation Engineering  \\\n",
       "0  1.0 Algebra 1.1 Set Theory* 1.2 Real Numbers 1...       \n",
       "1  4.1.4 The Differential 4.1.5 Partial Derivativ...       \n",
       "2  1.0 Surveying Concepts 1.1 Uses of Surveys 1.2...       \n",
       "3  3.1.5 Compass Traverse 3.1.6 Stadia Traverse 3...       \n",
       "4                                                NaN       \n",
       "5                                                NaN       \n",
       "\n",
       "             Hydraulics and Geotechnical Engineering  \\\n",
       "0  1.0 Fluid Mechanics 1.1 Properties of Fluids 1...   \n",
       "1  4.0 Irrigation, Flood Control and Drainage 4.1...   \n",
       "2  5.3.1 Quantity 5.3.2 Methods 5.3.3 Theory of A...   \n",
       "3                                                NaN   \n",
       "4                                                NaN   \n",
       "5                                                NaN   \n",
       "\n",
       "             Construction and Structural Engineering  \n",
       "0  1.0 Statics of Rigid Bodies 1.1 Force System 1...  \n",
       "1  1.4.3 Bending Moment Diagrams 1.5 Related Topi...  \n",
       "2  3.9 Shear Center 3.10 Curved Beams 3.11 Nonhom...  \n",
       "3  4.5.3 Frames 5.0 Design of Timber Structures 5...  \n",
       "4  7.5.2 Deflections 7.6 Columns 7.6.1 Short Colu...  \n",
       "5  9.1.3 Highway Design 9.1.4 Traffic Engineering...  "
      ]
     },
     "execution_count": 48,
     "metadata": {},
     "output_type": "execute_result"
    }
   ],
   "source": [
    "df"
   ]
  },
  {
   "cell_type": "code",
   "execution_count": 49,
   "metadata": {},
   "outputs": [],
   "source": [
    "def get_items(df,col_num):\n",
    "    col_name = df.columns[col_num]\n",
    "    col1 = df.loc[~df[col_name].isnull(),col_name]\n",
    "\n",
    "    text=\"\"\n",
    "    for i in col1:\n",
    "        text=\" \".join([text,i])\n",
    "    x = re.finditer(r\"(\\d\\.\\d\\.\\d)|(\\d\\.*\\d)\",text)\n",
    "    all_matches = [i.span() for i in x]\n",
    "\n",
    "    arry = []\n",
    "    for idx, span in enumerate(all_matches[:-1]):\n",
    "        next_span = all_matches[idx+1]\n",
    "        item = text[span[0]:next_span[0]]\n",
    "        arry.append(item)\n",
    "    return arry"
   ]
  },
  {
   "cell_type": "code",
   "execution_count": 50,
   "metadata": {},
   "outputs": [],
   "source": [
    "import numpy as np\n",
    "col_idx = [i for i in range(len(df.columns.to_list()))]\n",
    "vals_arry = []\n",
    "for idx in col_idx:\n",
    "    vals_arry.append(get_items(df,idx))\n",
    "\n",
    "y = max([len(i) for i in vals_arry])\n",
    "x = len(vals_arry)\n",
    "\n",
    "\n",
    "dummy_dct = {}\n",
    "for col in df.columns:\n",
    "    dummy_dct[col] = np.empty(y)\n",
    "\n",
    "new_df = pd.DataFrame(dummy_dct)\n",
    "for idx, col in enumerate(new_df.columns):\n",
    "    new_df.iloc[0:len(vals_arry[idx]),idx] = vals_arry[idx]\n",
    "\n",
    "\n",
    "new_df.to_excel(\"All Lessons.xlsx\")"
   ]
  },
  {
   "cell_type": "code",
   "execution_count": null,
   "metadata": {},
   "outputs": [],
   "source": []
  }
 ],
 "metadata": {
  "kernelspec": {
   "display_name": "Python 3.9.7 ('base')",
   "language": "python",
   "name": "python3"
  },
  "language_info": {
   "codemirror_mode": {
    "name": "ipython",
    "version": 3
   },
   "file_extension": ".py",
   "mimetype": "text/x-python",
   "name": "python",
   "nbconvert_exporter": "python",
   "pygments_lexer": "ipython3",
   "version": "3.9.7"
  },
  "orig_nbformat": 4,
  "vscode": {
   "interpreter": {
    "hash": "7c031526a147983fdb0109eb28e11d0d68b68b2c0484cebf386ea03e1a29d4e7"
   }
  }
 },
 "nbformat": 4,
 "nbformat_minor": 2
}
